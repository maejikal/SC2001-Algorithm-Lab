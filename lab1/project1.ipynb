{
 "cells": [
  {
   "cell_type": "code",
   "execution_count": 1,
   "id": "482c28d8",
   "metadata": {},
   "outputs": [],
   "source": [
    "import random\n",
    "import math\n",
    "from alive_progress import alive_bar #progress bar for loops\n",
    "import matplotlib.pyplot as plt\n",
    "import numpy as np\n",
    "import time"
   ]
  },
  {
   "cell_type": "markdown",
   "id": "84d97166",
   "metadata": {},
   "source": [
    "### PART 0: IMPLEMENTATION OF SORTING ALGORITHMS"
   ]
  },
  {
   "cell_type": "code",
   "execution_count": 2,
   "id": "13710710",
   "metadata": {},
   "outputs": [],
   "source": [
    "#Insertion Sort\n",
    "def insertionsort(lst): \n",
    "    arr = lst[:]\n",
    "    comparisons = 0     \n",
    "    for i in range(1, len(arr)): \n",
    "        key = arr[i] \n",
    "        j = i - 1 \n",
    "        while j >= 0: \n",
    "            comparisons += 1 \n",
    "            if arr[j] > key: \n",
    "                arr[j + 1] = arr[j] \n",
    "                j -= 1 \n",
    "            else: \n",
    "                break \n",
    "            arr[j + 1] = key \n",
    "    return (arr, comparisons)\n",
    "\n",
    "#Merge Sort\n",
    "#will be used in hybrid algorithm\n",
    "def merge(l1, l2):\n",
    "    #print(l1, l2)\n",
    "    ans = []\n",
    "    p1 = 0\n",
    "    p2 = 0\n",
    "    comparisons = 0\n",
    "    while p1<len(l1) and p2<len(l2):\n",
    "        comparisons += 1\n",
    "        if l1[p1] < l2[p2]:\n",
    "            ans.append(l1[p1])\n",
    "            p1+=1\n",
    "        else:\n",
    "            ans.append(l2[p2])\n",
    "            p2+=1\n",
    "    ans.extend(l1[p1:])\n",
    "    ans.extend(l2[p2:])\n",
    "    return (ans, comparisons)\n",
    "\n",
    "def mergesort(lst):\n",
    "    if len(lst)<=1:\n",
    "        return lst[:], 0\n",
    "    mid = len(lst)//2\n",
    "    left, left_comps = mergesort(lst[:mid])\n",
    "    right, right_comps = mergesort(lst[mid:])\n",
    "    merged, merge_comps = merge(left, right)\n",
    "    return merged, left_comps + right_comps + merge_comps"
   ]
  },
  {
   "cell_type": "markdown",
   "id": "6471c210",
   "metadata": {},
   "source": [
    "### PART A: HYBRID SORT"
   ]
  },
  {
   "cell_type": "code",
   "execution_count": 3,
   "id": "159eeeb2",
   "metadata": {},
   "outputs": [],
   "source": [
    "#function that integrates the insertion sort and the merge sort logics\n",
    "def integrate(lst, S=15):\n",
    "    def hybrid(arr):\n",
    "        n = len(arr)\n",
    "        if n <= 1:\n",
    "            return (list(arr), 0)\n",
    "        if n <= S:\n",
    "            return insertionsort(arr)\n",
    "        mid = n // 2\n",
    "        left_sorted, left_comp = hybrid(arr[:mid])\n",
    "        right_sorted, right_comp = hybrid(arr[mid:])\n",
    "        merged, merge_comp = merge(left_sorted, right_sorted)\n",
    "        return (merged, left_comp + right_comp + merge_comp)\n",
    "\n",
    "    return hybrid(lst)"
   ]
  },
  {
   "cell_type": "markdown",
   "id": "69dc684b",
   "metadata": {},
   "source": [
    "### PART B: GENERATION OF DATASETS"
   ]
  },
  {
   "cell_type": "code",
   "execution_count": 4,
   "id": "f68db2b8",
   "metadata": {},
   "outputs": [],
   "source": [
    "#function to generate datasets (for different sizes)\n",
    "def generate_datasets(sizes,x): #x is the max value of the random integers\n",
    "    datasets={}\n",
    "    for n in sizes:\n",
    "        datasets[n]=[random.randint(0,x) for _ in range(n)]\n",
    "    return datasets\n",
    "sizes=[1000,5000,10000,50000,100000,500000,1000000,5000000,10000000]\n",
    "random.seed(2025) # for reproducibility\n",
    "datasets=generate_datasets(sizes,1000000000) #dictionary of datasets with key as size\n",
    "\n",
    "#function to generate multiple datasets (for same size)\n",
    "def generate_datasets_n(size,number_of_datasets,x): \n",
    "    datasets={}\n",
    "    for n in range(number_of_datasets):\n",
    "        datasets[n]=[random.randint(0,x) for _ in range(size)]\n",
    "    return datasets #dictionary of datasets with same size\n",
    "\n",
    "# for reproducibility\n",
    "np.random.seed(2025)"
   ]
  },
  {
   "cell_type": "markdown",
   "id": "6ab10344",
   "metadata": {},
   "source": [
    "### PART C: TESTING THE SORTS AND PLOTTING GRAPHS"
   ]
  },
  {
   "cell_type": "markdown",
   "id": "82749c1d",
   "metadata": {},
   "source": [
    "#### Analysis of Time Complexity\n",
    "\n",
    "When recursion stops at size $S$, number of subarrays $\\approx \\frac{n}{s}$. <br>\n",
    "In the worst case, insertion sort does $1+2+3+...+(n-1)$ comparisons.<br> Therefore considering randomly ordered subarray, on average, comparisons stop halfway through the list (element is somewhere in the middle). <br>The expected number of comparisons done by insertion sort on subarray of size $S$ is $\\frac{1}{2}(1+2+3...+(S-1))=\\frac{1}{2} \\cdot \\frac{S(S-1)}{2} = \\frac{S(S-1)}{4}$.<br>\n",
    "The number of comparisons done by insertion sort on all subarrays is $$\\frac{n}{S} \\cdot \\frac{S(S-1)}{4} = \\frac{n(S-1)}{4}$$ <br>\n",
    "Combining with mergesort, $$T_{hybrid}(n, S) = n\\ \\log_2\\ \\frac{n}{S} + \\frac{n(S-1)}{4}$$"
   ]
  },
  {
   "cell_type": "code",
   "execution_count": 105,
   "id": "b0546d94",
   "metadata": {},
   "outputs": [],
   "source": [
    "def theoretical_comparisons(n, S): #approx number of comparisons for hybrid\n",
    "    if S >= n:\n",
    "        # if S >= n, it's just insertion sort on the whole array\n",
    "        return  (n * (n-1) / 4)\n",
    "    return n * math.log2(n / S) + (n * (S-1) / 4)"
   ]
  },
  {
   "cell_type": "markdown",
   "id": "9aa51616",
   "metadata": {},
   "source": [
    "#### Running hybrid sort on generated datasets in part B"
   ]
  },
  {
   "cell_type": "code",
   "execution_count": 5,
   "id": "cc7124e6",
   "metadata": {},
   "outputs": [
    {
     "name": "stdout",
     "output_type": "stream",
     "text": [
      "Size: 1000, Comparisons: 9541\n",
      "Size: 5000, Comparisons: 58279\n",
      "Size: 10000, Comparisons: 127129\n",
      "Size: 50000, Comparisons: 768895\n",
      "Size: 100000, Comparisons: 1639691\n",
      "Size: 500000, Comparisons: 9443316\n",
      "Size: 1000000, Comparisons: 19889843\n",
      "Size: 5000000, Comparisons: 108211729\n",
      "Size: 10000000, Comparisons: 226416463\n"
     ]
    }
   ],
   "source": [
    "for i in datasets:\n",
    "    _, comps = integrate(datasets[i], 15) #set S=15\n",
    "    print(f\"Size: {i}, Comparisons: {comps}\")\n",
    "\n",
    "for j in datasets:\n",
    "    # print(j)\n",
    "    assert integrate(datasets[j], 15)[0] == sorted(datasets[j]) #checking if hybrid sort works correctly"
   ]
  },
  {
   "cell_type": "markdown",
   "id": "565e4255",
   "metadata": {},
   "source": [
    "#### Part C.1\n",
    "\n",
    "With the value of S fixed, plot the number of key comparisons over\n",
    "different sizes of the input list n. Compare your empirical results with\n",
    "your theoretical analysis of the time complexity."
   ]
  },
  {
   "cell_type": "code",
   "execution_count": null,
   "id": "cbf4678c",
   "metadata": {},
   "outputs": [
    {
     "name": "stdout",
     "output_type": "stream",
     "text": [
      "Comparison counting for fixed S... |████████████████████████████████████████| 9/\n"
     ]
    }
   ],
   "source": [
    "S_fixed = 20\n",
    "n_values = [1000,5000,10000,50000,100000,500000,1000000,5000000,10000000]\n",
    "comps_n_dict = {}\n",
    "trials = 5\n",
    "\n",
    "with alive_bar(len(n_values), title=\"Comparison counting for fixed S...\", force_tty=True) as bar:\n",
    "    for n in n_values:\n",
    "        avg_comps = 0\n",
    "        for _ in range(trials):\n",
    "            random.seed(2025)\n",
    "            dataset = [random.randint(0, 10**9) for _ in range(n)]\n",
    "            _, comps = integrate(dataset, S_fixed)\n",
    "            avg_comps += comps\n",
    "        comps_n_dict[n] = avg_comps / trials\n",
    "        bar()\n",
    "\n",
    "theoretical_results_n = {n: theoretical_comparisons(n, S_fixed) for n in n_values}"
   ]
  },
  {
   "cell_type": "code",
   "execution_count": 83,
   "id": "0448d2a8",
   "metadata": {},
   "outputs": [
    {
     "data": {
      "image/png": "[encoded data removed]",
      "text/plain": [
       "<Figure size 640x480 with 1 Axes>"
      ]
     },
     "metadata": {},
     "output_type": "display_data"
    }
   ],
   "source": [
    "# plotting empirical vs theoretical results\n",
    "plt.plot(list(comps_n_dict.keys()), list(comps_n_dict.values()), label=\"Empirical\", marker=\"o\")\n",
    "plt.plot(list(theoretical_results_n.keys()), list(theoretical_results_n.values()),\n",
    "         label=\"Theoretical\", linestyle=\"--\", marker=\"x\")\n",
    "\n",
    "plt.xlabel(\"Input size n (log scale)\")\n",
    "plt.ylabel(\"Number of comparisons\")\n",
    "plt.xscale(\"log\")\n",
    "plt.title(f\"Empirical vs Theoretical Comparisons for fixed S (S={S_fixed}), varying n\")\n",
    "plt.legend()\n",
    "plt.grid(True)\n",
    "plt.show()"
   ]
  },
  {
   "cell_type": "markdown",
   "id": "20d9f8d4",
   "metadata": {},
   "source": [
    "#### Part C.2 \n",
    "\n",
    "With the input size n fixed, plot the number of key comparisons over\n",
    "different values of S. Compare your empirical results with your\n",
    "theoretical analysis of the time complexity."
   ]
  },
  {
   "cell_type": "code",
   "execution_count": null,
   "id": "ad16647a",
   "metadata": {},
   "outputs": [
    {
     "name": "stdout",
     "output_type": "stream",
     "text": [
      "Generated 100 datasets of size 10000 for testing.\n",
      "Comparison counting in progress... |████████████████████████████████████████| 10\n"
     ]
    }
   ],
   "source": [
    "# Testing on input size n\n",
    "n = 10000\n",
    "number_of_datasets = 100\n",
    "x = 100000000\n",
    "# generate 100 datasets of size n\n",
    "datasets_c_2 = generate_datasets_n(n, number_of_datasets, x)\n",
    "print(f\"Generated {len(datasets_c_2)} datasets of size {n} for testing.\") # can be reused for testing\n",
    "s = [x for x in range(1,101)] # S values from 1 to 100\n",
    "comps_hyb_dict = {} # each S value (key) is mapped to average comparisons (value)\n",
    "\n",
    "with alive_bar(len(s), title=\"Comparison counting in progress...\", force_tty=True) as bar:\n",
    "    for i in s:\n",
    "        avg_comps = 0 #average comparisons for each S value\n",
    "        for j in datasets_c_2:\n",
    "            avg_comps += integrate(datasets_c_2[j], i)[1] #adding up comparisons for each S value\n",
    "        comps_hyb_dict[i] = avg_comps/len(datasets_c_2) #average comparisons for each S value\n",
    "        bar()"
   ]
  },
  {
   "cell_type": "code",
   "execution_count": 86,
   "id": "a490766e",
   "metadata": {},
   "outputs": [
    {
     "data": {
      "image/png": "[encoded data removed]",
      "text/plain": [
       "<Figure size 640x480 with 1 Axes>"
      ]
     },
     "metadata": {},
     "output_type": "display_data"
    }
   ],
   "source": [
    "# Plotting average comparisons against varying S values\n",
    "# n and s were definied earlier, n = 10000, s = [x for x in range(1,101)]\n",
    "theoretical_results_s = {S: theoretical_comparisons(n, S) for S in s}\n",
    "\n",
    "# plotting empirical vs theoretical results\n",
    "plt.plot(list(comps_hyb_dict.keys()), list(comps_hyb_dict.values()), label=\"Empirical\")\n",
    "plt.plot(list(theoretical_results_s.keys()), list(theoretical_results_s.values()), label=\"Theoretical\", linestyle=\"--\")\n",
    "\n",
    "plt.xlabel(\"S values\")\n",
    "plt.ylabel(\"Number of comparisons\")\n",
    "plt.title(f\"Empirical vs Theoretical Comparisons for fixed n (n={n}), varying S\")\n",
    "plt.legend()\n",
    "plt.grid(True)\n",
    "plt.show()"
   ]
  },
  {
   "cell_type": "code",
   "execution_count": 75,
   "id": "08b0de02",
   "metadata": {},
   "outputs": [],
   "source": [
    "for j in datasets_c_2:\n",
    "    # print(j)\n",
    "    assert integrate(datasets_c_2[j], 15)[0] == sorted(datasets_c_2[j]) #checking if hybrid sort works correctly"
   ]
  },
  {
   "cell_type": "markdown",
   "id": "d527e2a9",
   "metadata": {},
   "source": [
    "### PART C.3\n",
    "Using different sizes of input datasets, study how to determine an optimal value of S \n",
    "for the best performance of this hybrid algorithm (minimizing execution time)."
   ]
  },
  {
   "cell_type": "code",
   "execution_count": null,
   "id": "2faabac5",
   "metadata": {},
   "outputs": [],
   "source": [
    "#PART C.3:\n",
    "\n",
    "\n",
    "\n",
    "import time\n",
    "\n",
    "# different input sizes to test\n",
    "n_values_c3 = [1000, 2000, 5000, 10000, 20000,50000,100000]\n",
    "# S values to test for each input size\n",
    "S_values_c3 = list(range(1, 101))  # testing S from 1 to 100\n",
    "trials_c3 = 5  # number of trials per (n, S) combination\n",
    "\n",
    "# set seed for reproducibility\n",
    "random.seed(2025)\n",
    "\n",
    "# generate fixed datasets for each input size\n",
    "print(\"generating fixed datasets for consistent results...\")\n",
    "fixed_datasets = {}\n",
    "for n in n_values_c3:\n",
    "    datasets = []\n",
    "    for trial in range(trials_c3):\n",
    "        dataset = [random.randint(0, 10**9) for _ in range(n)]\n",
    "        datasets.append(dataset)\n",
    "    fixed_datasets[n] = datasets\n",
    "    \n",
    "\n",
    "# dictionary to store optimal S for each input size\n",
    "optimal_S_results = {}\n",
    "\n",
    "print(\"finding optimal S values for different input sizes (minimizing execution time)...\")\n",
    "\n",
    "with alive_bar(len(n_values_c3), title=\"finding optimal S...\") as bar:\n",
    "    for n in n_values_c3:\n",
    "        print(f\"\\ntesting input size n = {n}\")\n",
    "        \n",
    "        # dictionary to store average execution times for each S value\n",
    "        avg_times_by_S = {}\n",
    "        \n",
    "        # test each S value\n",
    "        for S in S_values_c3:\n",
    "            total_time = 0\n",
    "            \n",
    "            # run multiple trials for this (n, S) combination\n",
    "            for trial in range(trials_c3):\n",
    "                #dataset = [random.randint(0, 10**9) for _ in range(n)]\n",
    "                dataset = fixed_datasets[n][trial]  # use fixed dataset\n",
    "                \n",
    "                # measure execution time\n",
    "                start_time = time.time()\n",
    "                integrate(dataset, S)\n",
    "                end_time = time.time()\n",
    "                \n",
    "                total_time += (end_time - start_time)\n",
    "            \n",
    "            avg_times_by_S[S] = total_time / trials_c3\n",
    "        \n",
    "        # find the S value that gives minimum average execution time\n",
    "        optimal_S = min(avg_times_by_S, key=avg_times_by_S.get)\n",
    "        min_time = avg_times_by_S[optimal_S]\n",
    "        \n",
    "        optimal_S_results[n] = {\n",
    "            'optimal_S': optimal_S,\n",
    "            'min_time': min_time,\n",
    "            'all_times': avg_times_by_S\n",
    "        }\n",
    "        \n",
    "        print(f\"  optimal S = {optimal_S}, min time = {min_time:.4f}s\")\n",
    "        bar()\n",
    "\n",
    "# plot: optimal S vs input size\n",
    "plt.figure(figsize=(10, 6))\n",
    "\n",
    "n_list = list(optimal_S_results.keys())\n",
    "optimal_S_list = [optimal_S_results[n]['optimal_S'] for n in n_list]\n",
    "\n",
    "plt.plot(n_list, optimal_S_list, 'bo-', linewidth=3, markersize=10, markerfacecolor='lightblue', \n",
    "         markeredgecolor='darkblue', markeredgewidth=2)\n",
    "\n",
    "plt.xlabel(\"Input Size (n)\", fontsize=12, fontweight='bold')\n",
    "plt.ylabel(\"Optimal S Value\", fontsize=12, fontweight='bold')\n",
    "plt.title(\"Optimal S vs Input Size (Time-based Optimization)\", fontsize=14, fontweight='bold', pad=20)\n",
    "\n",
    "# customize x-axis ticks\n",
    "plt.xticks(n_list, [f'{n:,}' for n in n_list], rotation=45, fontsize=10)\n",
    "#plt.xscale('log')\n",
    "\n",
    "# customize y-axis ticks\n",
    "plt.yticks(range(0, max(optimal_S_list) + 5, 5), fontsize=10)\n",
    "\n",
    "# add grid\n",
    "plt.grid(True, alpha=0.3, linestyle='--')\n",
    "\n",
    "# add value labels on points\n",
    "for i, (n, s) in enumerate(zip(n_list, optimal_S_list)):\n",
    "    plt.annotate(f'S={s}', (n, s), textcoords=\"offset points\", xytext=(0,10), \n",
    "                ha='center', fontsize=9, fontweight='bold')\n",
    "\n",
    "plt.tight_layout()\n",
    "plt.show()\n",
    "\n",
    "\n",
    "# analysis of optimal S values\n",
    "print(\"\\n\" + \"=\"*60)\n",
    "print(\"ANALYSIS OF OPTIMAL S VALUES (Time-based)\")\n",
    "print(\"=\"*60)\n",
    "\n",
    "for n in n_list:\n",
    "    optimal_S = optimal_S_results[n]['optimal_S']\n",
    "    min_time = optimal_S_results[n]['min_time']\n",
    "    print(f\"n = {n:>8}: optimal S = {optimal_S:>2}, min time = {min_time:.4f}s\")\n",
    "\n",
    "# overall optimal S recommendation\n",
    "print(f\"\\n\" + \"=\"*40)\n",
    "print(\"RECOMMENDATION\")\n",
    "print(\"=\"*40)\n",
    "\n",
    "# find S value with minimum total execution time across all input sizes\n",
    "total_times_by_S = {}\n",
    "for S in S_values_c3:\n",
    "    total_time = 0\n",
    "    for n in n_list:\n",
    "        if S in optimal_S_results[n]['all_times']:\n",
    "            total_time += optimal_S_results[n]['all_times'][S]\n",
    "    total_times_by_S[S] = total_time\n",
    "\n",
    "# find the S with minimum total time\n",
    "best_S = min(total_times_by_S, key=total_times_by_S.get)\n",
    "best_total_time = total_times_by_S[best_S]\n",
    "\n",
    "print(f\"optimal S values for each n: {[optimal_S_results[n]['optimal_S'] for n in n_list]}\")\n",
    "print(f\"recommended overall S: {best_S}\")\n",
    "print(f\"total execution time for S={best_S}: {best_total_time:.4f}s\")\n",
    "\n",
    "# execution time table\n",
    "print(f\"\\nexecution time table:\")\n",
    "print(f\"S    {n_list[0]}   {n_list[1]}   {n_list[2]}   {n_list[3]}   {n_list[4]}   sum\")\n",
    "\n",
    "# get unique optimal S values\n",
    "optimal_S_values = list(set([optimal_S_results[n]['optimal_S'] for n in n_list]))\n",
    "optimal_S_values.sort()\n",
    "\n",
    "for S in optimal_S_values:\n",
    "    total_time = 0\n",
    "    times = []\n",
    "    \n",
    "    for n in n_list:\n",
    "        if S in optimal_S_results[n]['all_times']:\n",
    "            time_val = optimal_S_results[n]['all_times'][S]\n",
    "            times.append(f\"{time_val:.3f}\")\n",
    "            total_time += time_val\n",
    "        else:\n",
    "            times.append(\"N/A\")\n",
    "    \n",
    "    print(f\"{S:2}  {times[0]:>6}  {times[1]:>6}  {times[2]:>6}  {times[3]:>6}  {times[4]:>6}  {total_time:.3f}\")\n",
    "\n",
    "# add recommended S if it's not already in the table\n",
    "if best_S not in optimal_S_values:\n",
    "    total_time = 0\n",
    "    times = []\n",
    "    \n",
    "    for n in n_list:\n",
    "        if best_S in optimal_S_results[n]['all_times']:\n",
    "            time_val = optimal_S_results[n]['all_times'][best_S]\n",
    "            times.append(f\"{time_val:.3f}\")\n",
    "            total_time += time_val\n",
    "        else:\n",
    "            times.append(\"N/A\")\n",
    "    \n",
    "    print(f\"{best_S:2}* {times[0]:>6}  {times[1]:>6}  {times[2]:>6}  {times[3]:>6}  {times[4]:>6}  {total_time:.3f}\")\n"
   ]
  },
  {
   "cell_type": "markdown",
   "id": "52c5effe",
   "metadata": {},
   "source": [
    "### PART D:\n",
    "Implement the original Mergesort algorithm. Compare its performance against the hybrid \n",
    "algorithm (in terms of key comparisons and CPU times) using a dataset of 10 million integers. \n",
    "The optimal S value determined in part (c) should be used for this comparison.\n"
   ]
  },
  {
   "cell_type": "code",
   "execution_count": null,
   "id": "797eb015",
   "metadata": {},
   "outputs": [],
   "source": [
    "# test dataset size\n",
    "test_size = 10000000  # 10 million integers\n",
    "print(f\"testing with dataset of {test_size:,} integers...\")\n",
    "\n",
    "# generate test dataset\n",
    "random.seed(2025)\n",
    "test_dataset = [random.randint(0, 10**9) for _ in range(test_size)]\n",
    "print(f\"generated test dataset of size {len(test_dataset):,}\")\n",
    "\n",
    "# test original mergesort\n",
    "print(f\"\\ntesting original mergesort...\")\n",
    "start_time = time.time()\n",
    "sorted_merge, merge_comps = mergesort(test_dataset)\n",
    "merge_time = time.time() - start_time\n",
    "\n",
    "# test hybrid sort with optimal S\n",
    "print(f\"testing hybrid sort with optimal S = {best_S}...\")\n",
    "start_time = time.time()\n",
    "sorted_hybrid, hybrid_comps = integrate(test_dataset, best_S)\n",
    "hybrid_time = time.time() - start_time\n",
    "\n",
    "# verify both produce same result\n",
    "print(f\"verifying both algorithms produce same sorted result...\")\n",
    "is_same = sorted_merge == sorted_hybrid\n",
    "print(f\"results match: {is_same}\")\n",
    "\n",
    "# display comparison results\n",
    "print(f\"\\n\" + \"=\"*60)\n",
    "print(\"PERFORMANCE COMPARISON\")\n",
    "print(\"=\"*60)\n",
    "print(f\"{'Algorithm':<15} {'Comparisons':<15} {'Time (s)':<12} {'Speedup':<10}\")\n",
    "print(\"-\" * 60)\n",
    "print(f\"{'Original Merge':<15} {merge_comps:<15,} {merge_time:<12.4f} {'1.00x':<10}\")\n",
    "print(f\"{'Hybrid (S=' + str(best_S) + ')':<15} {hybrid_comps:<15,} {hybrid_time:<12.4f} {merge_time/hybrid_time:<10.2f}x\")\n",
    "\n",
    "# calculate differences\n",
    "comp_difference = ((merge_comps - hybrid_comps) / merge_comps) * 100\n",
    "time_difference = ((merge_time - hybrid_time) / merge_time) * 100\n",
    "\n",
    "print(f\"\\n\" + \"=\"*60)\n",
    "print(\"DIFFERENCE ANALYSIS\")\n",
    "print(\"=\"*60)\n",
    "print(f\"comparison reduction: {comp_difference:.2f}% ({merge_comps:,} → {hybrid_comps:,})\")\n",
    "print(f\"time reduction: {time_difference:.2f}% ({merge_time:.4f}s → {hybrid_time:.4f}s)\")\n",
    "print(f\"speedup factor: {merge_time/hybrid_time:.2f}x faster\")\n",
    "\n",
    "if hybrid_time < merge_time:\n",
    "    print(f\"\\nhybrid sort is {merge_time/hybrid_time:.2f}x faster than original mergesort!\")\n",
    "else:\n",
    "    print(f\"\\n hybrid sort is {merge_time/hybrid_time:.2f}x slower than original mergesort\")"
   ]
  }
 ],
 "metadata": {
  "kernelspec": {
   "display_name": ".venv",
   "language": "python",
   "name": "python3"
  },
  "language_info": {
   "codemirror_mode": {
    "name": "ipython",
    "version": 3
   },
   "file_extension": ".py",
   "mimetype": "text/x-python",
   "name": "python",
   "nbconvert_exporter": "python",
   "pygments_lexer": "ipython3",
   "version": "3.13.7"
  }
 },
 "nbformat": 4,
 "nbformat_minor": 5
}
