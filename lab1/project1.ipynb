{
 "cells": [
  {
   "cell_type": "code",
   "execution_count": 18,
   "id": "482c28d8",
   "metadata": {},
   "outputs": [],
   "source": [
    "import random\n",
    "from alive_progress import alive_bar #progress bar for loops\n",
    "import matplotlib.pyplot as plt"
   ]
  },
  {
   "cell_type": "markdown",
   "id": "84d97166",
   "metadata": {},
   "source": [
    "### PART 0: IMPLEMENTATION OF SORTING ALGORITHMS"
   ]
  },
  {
   "cell_type": "code",
   "execution_count": null,
   "id": "13710710",
   "metadata": {},
   "outputs": [],
   "source": [
    "#Insertion Sort\n",
    "def insertionsort(lst): \n",
    "    comparisons = 0 \n",
    "    for i in range(1, len(lst)): \n",
    "        key = lst[i] \n",
    "        j = i - 1 \n",
    "        while j >= 0: \n",
    "            comparisons += 1 \n",
    "            if lst[j] > key: \n",
    "                lst[j + 1] = lst[j] \n",
    "                j -= 1 \n",
    "            else: \n",
    "                break \n",
    "            lst[j + 1] = key \n",
    "    return (lst, comparisons)\n",
    "\n",
    "#Merge Sort\n",
    "# will be used in hybrid algorithm\n",
    "def merge(l1, l2):\n",
    "    #print(l1, l2)\n",
    "    ans = []\n",
    "    p1 = 0\n",
    "    p2 = 0\n",
    "    comparisons = 0\n",
    "    while p1<len(l1) and p2<len(l2):\n",
    "        comparisons += 1\n",
    "        if l1[p1] < l2[p2]:\n",
    "            ans.append(l1[p1])\n",
    "            p1+=1\n",
    "        else:\n",
    "            ans.append(l2[p2])\n",
    "            p2+=1\n",
    "    ans.extend(l1[p1:])\n",
    "    ans.extend(l2[p2:])\n",
    "    return (ans, comparisons)\n",
    "\n",
    "def mergesort(lst):\n",
    "    if len(lst)<=1:\n",
    "        return lst, 0\n",
    "    mid = len(lst)//2\n",
    "    left, left_comps = mergesort(lst[:mid])\n",
    "    right, right_comps = mergesort(lst[mid:])\n",
    "    merged, merge_comps = merge(left, right)\n",
    "    return merged, left_comps + right_comps + merge_comps"
   ]
  },
  {
   "cell_type": "markdown",
   "id": "6471c210",
   "metadata": {},
   "source": [
    "### PART A: HYBRID SORT"
   ]
  },
  {
   "cell_type": "code",
   "execution_count": 6,
   "id": "159eeeb2",
   "metadata": {},
   "outputs": [],
   "source": [
    "#function that integrates the insertion sort and the merge sort logics\n",
    "def integrate(lst, S=15):\n",
    "    def hybrid(arr):\n",
    "        n = len(arr)\n",
    "        if n <= 1:\n",
    "            return (list(arr), 0)\n",
    "        if n <= S:\n",
    "            return insertionsort(arr)\n",
    "        mid = n // 2\n",
    "        left_sorted, left_comp = hybrid(arr[:mid])\n",
    "        right_sorted, right_comp = hybrid(arr[mid:])\n",
    "        merged, merge_comp = merge(left_sorted, right_sorted)\n",
    "        return (merged, left_comp + right_comp + merge_comp)\n",
    "\n",
    "    return hybrid(lst)"
   ]
  },
  {
   "cell_type": "markdown",
   "id": "69dc684b",
   "metadata": {},
   "source": [
    "### PART B: GENERATION OF DATASETS"
   ]
  },
  {
   "cell_type": "code",
   "execution_count": 8,
   "id": "f68db2b8",
   "metadata": {},
   "outputs": [],
   "source": [
    "#function to generate datasets (for different sizes)\n",
    "def generate_datasets(sizes,x): #x is the max value of the random integers\n",
    "    datasets={}\n",
    "    for n in sizes:\n",
    "        datasets[n]=[random.randint(0,x) for _ in range(n)]\n",
    "    return datasets\n",
    "sizes=[1000,5000,10000,50000,100000,500000,1000000,5000000,10000000]\n",
    "datasets=generate_datasets(sizes,1000000000) #dictionary of datasets with key as size\n",
    "\n",
    "#function to generate multiple datasets (for same size)\n",
    "def generate_datasets_n(size,number_of_datasets,x): \n",
    "    datasets={}\n",
    "    for n in range(number_of_datasets):\n",
    "        datasets[n]=[random.randint(0,x) for _ in range(size)]\n",
    "    return datasets #dictionary of datasets with same size\n"
   ]
  },
  {
   "cell_type": "markdown",
   "id": "6ab10344",
   "metadata": {},
   "source": [
    "### PART C: TESTING THE SORTS AND PLOTTING GRAPHS"
   ]
  },
  {
   "cell_type": "code",
   "execution_count": null,
   "id": "565e4255",
   "metadata": {},
   "outputs": [],
   "source": []
  },
  {
   "cell_type": "markdown",
   "id": "20d9f8d4",
   "metadata": {},
   "source": [
    "#### Part C.2 \n",
    "\n",
    "With the input size n fixed, plot the number of key comparisons over\n",
    "different values of S. Compare your empirical results with your\n",
    "theoretical analysis of the time complexity."
   ]
  },
  {
   "cell_type": "code",
   "execution_count": 17,
   "id": "ad16647a",
   "metadata": {},
   "outputs": [
    {
     "name": "stdout",
     "output_type": "stream",
     "text": [
      "Generated 100 datasets of size 10000 for testing.\n",
      "Comparison counting in progress... |████████████████████████████████████████| 10\n"
     ]
    }
   ],
   "source": [
    "# Testing on input size n\n",
    "n = 10000\n",
    "number_of_datasets = 100\n",
    "x = 1000000000\n",
    "# generate 100 datasets of size n\n",
    "datasets_c_2 = generate_datasets_n(n, number_of_datasets, x)\n",
    "print(f\"Generated {len(datasets_c_2)} datasets of size {n} for testing.\")\n",
    "s = [x for x in range(1,101)] # S values from 1 to 100\n",
    "comps_hyb_dict = {} # each S value (key) is mapped to average comparisons (value)\n",
    "with alive_bar(len(s), title=\"Comparison counting in progress...\", force_tty=True) as bar:\n",
    "    for i in s:\n",
    "        avg_comps = 0 #average comparisons for each S value\n",
    "        for j in datasets_c_2:\n",
    "            avg_comps += integrate(datasets_c_2[j], i)[1] #adding up comparisons for each S value\n",
    "        comps_hyb_dict[i] = avg_comps/len(datasets_c_2) #average comparisons for each S value\n",
    "        bar()"
   ]
  },
  {
   "cell_type": "code",
   "execution_count": 23,
   "id": "a490766e",
   "metadata": {},
   "outputs": [
    {
     "data": {
      "image/png": "[encoded data removed]",
      "text/plain": [
       "<Figure size 640x480 with 1 Axes>"
      ]
     },
     "metadata": {},
     "output_type": "display_data"
    }
   ],
   "source": [
    "# Plotting average comparisons against varying S values\n",
    "\n",
    "plt.plot(list(comps_hyb_dict.keys()), list(comps_hyb_dict.values()))\n",
    "plt.xlabel(\"S values\")\n",
    "plt.ylabel(\"Average number of comparisons\")\n",
    "plt.title(f\"Average number of comparisons vs S values (n={n})\")\n",
    "plt.grid()\n",
    "plt.show()"
   ]
  },
  {
   "cell_type": "code",
   "execution_count": 24,
   "id": "08b0de02",
   "metadata": {},
   "outputs": [
    {
     "data": {
      "text/plain": [
       "{1: 120461.1,\n",
       " 2: 120461.1,\n",
       " 3: 120461.17,\n",
       " 4: 120521.16,\n",
       " 5: 121523.73,\n",
       " 6: 121523.73,\n",
       " 7: 121523.73,\n",
       " 8: 121523.73,\n",
       " 9: 122543.4,\n",
       " 10: 127081.99,\n",
       " 11: 127081.99,\n",
       " 12: 127081.99,\n",
       " 13: 127081.99,\n",
       " 14: 127081.99,\n",
       " 15: 127081.99,\n",
       " 16: 127081.99,\n",
       " 17: 127081.99,\n",
       " 18: 127081.99,\n",
       " 19: 134302.81,\n",
       " 20: 143602.35,\n",
       " 21: 143602.35,\n",
       " 22: 143602.35,\n",
       " 23: 143602.35,\n",
       " 24: 143602.35,\n",
       " 25: 143602.35,\n",
       " 26: 143602.35,\n",
       " 27: 143602.35,\n",
       " 28: 143602.35,\n",
       " 29: 143602.35,\n",
       " 30: 143602.35,\n",
       " 31: 143602.35,\n",
       " 32: 143602.35,\n",
       " 33: 143602.35,\n",
       " 34: 143602.35,\n",
       " 35: 143602.35,\n",
       " 36: 143602.35,\n",
       " 37: 143602.35,\n",
       " 38: 143602.35,\n",
       " 39: 181023.74,\n",
       " 40: 183672.92,\n",
       " 41: 183672.92,\n",
       " 42: 183672.92,\n",
       " 43: 183672.92,\n",
       " 44: 183672.92,\n",
       " 45: 183672.92,\n",
       " 46: 183672.92,\n",
       " 47: 183672.92,\n",
       " 48: 183672.92,\n",
       " 49: 183672.92,\n",
       " 50: 183672.92,\n",
       " 51: 183672.92,\n",
       " 52: 183672.92,\n",
       " 53: 183672.92,\n",
       " 54: 183672.92,\n",
       " 55: 183672.92,\n",
       " 56: 183672.92,\n",
       " 57: 183672.92,\n",
       " 58: 183672.92,\n",
       " 59: 183672.92,\n",
       " 60: 183672.92,\n",
       " 61: 183672.92,\n",
       " 62: 183672.92,\n",
       " 63: 183672.92,\n",
       " 64: 183672.92,\n",
       " 65: 183672.92,\n",
       " 66: 183672.92,\n",
       " 67: 183672.92,\n",
       " 68: 183672.92,\n",
       " 69: 183672.92,\n",
       " 70: 183672.92,\n",
       " 71: 183672.92,\n",
       " 72: 183672.92,\n",
       " 73: 183672.92,\n",
       " 74: 183672.92,\n",
       " 75: 183672.92,\n",
       " 76: 183672.92,\n",
       " 77: 183672.92,\n",
       " 78: 260757.8,\n",
       " 79: 272029.71,\n",
       " 80: 272029.71,\n",
       " 81: 272029.71,\n",
       " 82: 272029.71,\n",
       " 83: 272029.71,\n",
       " 84: 272029.71,\n",
       " 85: 272029.71,\n",
       " 86: 272029.71,\n",
       " 87: 272029.71,\n",
       " 88: 272029.71,\n",
       " 89: 272029.71,\n",
       " 90: 272029.71,\n",
       " 91: 272029.71,\n",
       " 92: 272029.71,\n",
       " 93: 272029.71,\n",
       " 94: 272029.71,\n",
       " 95: 272029.71,\n",
       " 96: 272029.71,\n",
       " 97: 272029.71,\n",
       " 98: 272029.71,\n",
       " 99: 272029.71,\n",
       " 100: 272029.71}"
      ]
     },
     "execution_count": 24,
     "metadata": {},
     "output_type": "execute_result"
    }
   ],
   "source": [
    "comps_hyb_dict"
   ]
  },
  {
   "cell_type": "markdown",
   "id": "d527e2a9",
   "metadata": {},
   "source": [
    "### PART C.3"
   ]
  },
  {
   "cell_type": "markdown",
   "id": "87207970",
   "metadata": {},
   "source": [
    "comps_hyb_dict"
   ]
  },
  {
   "cell_type": "markdown",
   "id": "2faabac5",
   "metadata": {},
   "source": []
  }
 ],
 "metadata": {
  "kernelspec": {
   "display_name": ".venv",
   "language": "python",
   "name": "python3"
  },
  "language_info": {
   "codemirror_mode": {
    "name": "ipython",
    "version": 3
   },
   "file_extension": ".py",
   "mimetype": "text/x-python",
   "name": "python",
   "nbconvert_exporter": "python",
   "pygments_lexer": "ipython3",
   "version": "3.13.7"
  }
 },
 "nbformat": 4,
 "nbformat_minor": 5
}
